{
 "cells": [
  {
   "cell_type": "code",
   "execution_count": 127,
   "id": "initial_id",
   "metadata": {
    "collapsed": true,
    "ExecuteTime": {
     "end_time": "2024-11-09T08:32:06.298228Z",
     "start_time": "2024-11-09T08:32:06.287631Z"
    }
   },
   "outputs": [],
   "source": [
    "import numpy as np\n",
    "import pandas as pd\n",
    "import matplotlib.pyplot as plt\n",
    "from capstone.util import load_kospi_data, load_dataset\n",
    "import os\n",
    "import warnings\n",
    "\n",
    "from matplotlib import ticker\n",
    "warnings.filterwarnings(action='ignore')\n",
    "import networkx as nx\n",
    "import community as community_louvain"
   ]
  },
  {
   "cell_type": "code",
   "outputs": [],
   "source": [
    "pickle_path = './pickle'\n",
    "kospi_path = './data/kospi200_stocks.xlsx'\n",
    "\n",
    "interest_rate_increase = {\n",
    "    \"name\" : 'interest_rate_increase',\n",
    "    \"start_date\" : '2020-01-01',\n",
    "    \"end_date\": '2022-03-01'\n",
    "}\n",
    "yield_curve_inversion = {\n",
    "    \"name\" : \"yield_curve_inversion\",\n",
    "    \"start_date\" : '2018-01-01',\n",
    "    \"end_date\": '2019-12-01'\n",
    "}"
   ],
   "metadata": {
    "collapsed": false,
    "ExecuteTime": {
     "end_time": "2024-11-09T08:32:06.332905Z",
     "start_time": "2024-11-09T08:32:06.301926Z"
    }
   },
   "id": "6136d53cfe2142ed",
   "execution_count": 128
  },
  {
   "cell_type": "code",
   "outputs": [],
   "source": [
    "kospi_pickle_path = pickle_path + '/kospi_data.pickle'\n",
    "kospi_data = load_kospi_data(kospi_pickle_path,kospi_path)"
   ],
   "metadata": {
    "collapsed": false,
    "ExecuteTime": {
     "end_time": "2024-11-09T08:32:06.397378Z",
     "start_time": "2024-11-09T08:32:06.305542Z"
    }
   },
   "id": "169aa0e1ca3c09c9",
   "execution_count": 129
  },
  {
   "cell_type": "code",
   "outputs": [],
   "source": [
    "interest_rate_pickle_path = pickle_path + f'/{interest_rate_increase[\"name\"]}.pickle'\n",
    "yield_curve_pickle_path = pickle_path + f'/{yield_curve_inversion[\"name\"]}.pickle'"
   ],
   "metadata": {
    "collapsed": false,
    "ExecuteTime": {
     "end_time": "2024-11-09T08:32:06.401609Z",
     "start_time": "2024-11-09T08:32:06.397680Z"
    }
   },
   "id": "62a631d4de38cf9c",
   "execution_count": 130
  },
  {
   "cell_type": "code",
   "outputs": [],
   "source": [
    "df_interest_rate = load_dataset(kospi_data,interest_rate_pickle_path,interest_rate_increase['start_date'],interest_rate_increase['end_date'])"
   ],
   "metadata": {
    "collapsed": false,
    "ExecuteTime": {
     "end_time": "2024-11-09T08:32:06.410652Z",
     "start_time": "2024-11-09T08:32:06.401974Z"
    }
   },
   "id": "a8495b77785cff2",
   "execution_count": 131
  },
  {
   "cell_type": "code",
   "outputs": [],
   "source": [
    "df_yield_curve = load_dataset(kospi_data,yield_curve_pickle_path,yield_curve_inversion['start_date'],yield_curve_inversion['end_date'])"
   ],
   "metadata": {
    "collapsed": false,
    "ExecuteTime": {
     "end_time": "2024-11-09T08:32:06.419759Z",
     "start_time": "2024-11-09T08:32:06.411264Z"
    }
   },
   "id": "2b238e314b32b2ce",
   "execution_count": 132
  },
  {
   "cell_type": "markdown",
   "source": [
    "## 군집화 기간 1년"
   ],
   "metadata": {
    "collapsed": false
   },
   "id": "4c16c9fdb4d9ade2"
  },
  {
   "cell_type": "code",
   "outputs": [],
   "source": [
    "test_df = df_interest_rate[:'2021-01-01']\n",
    "validation_df = df_interest_rate['2021-01-02':]"
   ],
   "metadata": {
    "collapsed": false,
    "ExecuteTime": {
     "end_time": "2024-11-09T08:32:06.426371Z",
     "start_time": "2024-11-09T08:32:06.423687Z"
    }
   },
   "id": "ba9d1b06bad42b34",
   "execution_count": 133
  },
  {
   "cell_type": "code",
   "outputs": [],
   "source": [
    "from modularity.calculate_modularity import calculate_louvain\n",
    "from community import community_louvain\n",
    "\n",
    "partition,G = calculate_louvain(test_df,threshold=0.3)\n",
    "modularity_value = community_louvain.modularity(partition,G)"
   ],
   "metadata": {
    "collapsed": false,
    "ExecuteTime": {
     "end_time": "2024-11-09T08:32:06.880591Z",
     "start_time": "2024-11-09T08:32:06.430544Z"
    }
   },
   "id": "2dfd78f6891082dc",
   "execution_count": 134
  },
  {
   "cell_type": "code",
   "outputs": [
    {
     "name": "stdout",
     "output_type": "stream",
     "text": [
      "MODULARITY : 0.2015448118363189\n"
     ]
    }
   ],
   "source": [
    "print(f\"MODULARITY : {modularity_value}\")"
   ],
   "metadata": {
    "collapsed": false,
    "ExecuteTime": {
     "end_time": "2024-11-09T08:32:06.886849Z",
     "start_time": "2024-11-09T08:32:06.881901Z"
    }
   },
   "id": "ad73d6a217610c2b",
   "execution_count": 135
  },
  {
   "cell_type": "code",
   "outputs": [
    {
     "name": "stdout",
     "output_type": "stream",
     "text": [
      "클러스터 갯수 : 3\n"
     ]
    }
   ],
   "source": [
    "n_clusters = len(set(partition.values()))\n",
    "print(f\"클러스터 갯수 : {n_clusters}\")\n",
    "\n",
    "# 클러스터 개수만큼 딕셔너리 생성\n",
    "dict_clusters = {i : [] for i in range(n_clusters)}"
   ],
   "metadata": {
    "collapsed": false,
    "ExecuteTime": {
     "end_time": "2024-11-09T08:32:06.891947Z",
     "start_time": "2024-11-09T08:32:06.888917Z"
    }
   },
   "id": "75863e840fbe0569",
   "execution_count": 136
  },
  {
   "cell_type": "code",
   "outputs": [],
   "source": [
    "# 클러스터 기준으로 군집 분류 \n",
    "for stock_code,cluster in partition.items():\n",
    "    dict_clusters[cluster].append(stock_code)"
   ],
   "metadata": {
    "collapsed": false,
    "ExecuteTime": {
     "end_time": "2024-11-09T08:32:06.897916Z",
     "start_time": "2024-11-09T08:32:06.893123Z"
    }
   },
   "id": "96389a8e0d4f7734",
   "execution_count": 137
  },
  {
   "cell_type": "code",
   "outputs": [],
   "source": [
    "# 각 군집별로 데이터프레임 생성\n",
    "clusters_list = []\n",
    "for cluster in dict_clusters.keys():\n",
    "    clusters_list.append(test_df[dict_clusters[cluster]])"
   ],
   "metadata": {
    "collapsed": false,
    "ExecuteTime": {
     "end_time": "2024-11-09T08:32:06.914715Z",
     "start_time": "2024-11-09T08:32:06.900838Z"
    }
   },
   "id": "424c0e36bffe55cb",
   "execution_count": 138
  },
  {
   "cell_type": "code",
   "outputs": [],
   "source": [
    "# validation 각 군집별로 데이터프레임 생성\n",
    "val_clusters_list = []\n",
    "for cluster in dict_clusters.keys():\n",
    "    val_clusters_list.append(validation_df[dict_clusters[cluster]])"
   ],
   "metadata": {
    "collapsed": false,
    "ExecuteTime": {
     "end_time": "2024-11-09T08:32:06.915324Z",
     "start_time": "2024-11-09T08:32:06.904144Z"
    }
   },
   "id": "caadd0817c9cf34d",
   "execution_count": 139
  },
  {
   "cell_type": "code",
   "outputs": [],
   "source": [
    "test_cluster = clusters_list[1].pct_change().dropna()"
   ],
   "metadata": {
    "collapsed": false,
    "ExecuteTime": {
     "end_time": "2024-11-09T08:32:06.942607Z",
     "start_time": "2024-11-09T08:32:06.924249Z"
    }
   },
   "id": "153634a0b0252204",
   "execution_count": 140
  },
  {
   "cell_type": "code",
   "outputs": [],
   "source": [
    "mean_returns = test_cluster.mean()\n",
    "cov_matrix = test_cluster.cov()"
   ],
   "metadata": {
    "collapsed": false,
    "ExecuteTime": {
     "end_time": "2024-11-09T08:32:06.951991Z",
     "start_time": "2024-11-09T08:32:06.947580Z"
    }
   },
   "id": "991ab883fade90c8",
   "execution_count": 141
  },
  {
   "cell_type": "code",
   "outputs": [
    {
     "data": {
      "text/plain": "array([0.00000000e+00, 3.88958059e-12, 8.99649852e-14, 9.79139772e-14,\n       9.56343912e-17, 9.90454051e-16, 5.79908951e-13, 0.00000000e+00,\n       4.60526361e-14, 2.85900024e-16, 4.36610502e-17, 6.07210229e-16,\n       1.98478733e-13, 2.45058224e-13, 1.10427173e-15, 2.33715582e-14,\n       0.00000000e+00, 6.64872528e-13, 0.00000000e+00, 5.79735829e-14,\n       1.05815019e-15, 3.77396012e-13, 6.16110107e-17, 4.22121454e-13,\n       2.09710555e-16, 3.04257977e-16, 4.07230369e-16, 4.51629596e-16,\n       1.55985753e-16, 6.87022320e-18, 4.55323560e-16, 0.00000000e+00,\n       2.70206152e-13, 9.69782898e-13, 0.00000000e+00, 2.41194021e-16,\n       7.55027709e-13, 6.69375864e-16, 4.47542951e-13, 2.21161950e-13,\n       2.34316950e-13, 5.06657264e-16, 1.54229110e-13, 6.62678892e-14,\n       0.00000000e+00, 2.44731376e-13, 0.00000000e+00, 5.23500397e-13,\n       2.56709733e-13, 5.09452897e-16, 5.96109769e-13, 3.65547279e-16,\n       8.18605272e-13, 0.00000000e+00, 1.32356999e-16, 2.60674241e-13,\n       1.60467297e-16, 4.88490197e-16, 5.07019892e-16, 0.00000000e+00,\n       9.34028553e-16, 5.27296977e-14, 6.93298864e-16, 5.35925732e-14,\n       1.08672145e-16, 5.34167743e-14, 3.34074563e-16, 5.65426326e-16,\n       1.33602818e-13, 1.33194605e-15, 2.50758510e-16, 4.73700363e-16,\n       5.18002182e-16, 1.00000000e+00, 0.00000000e+00, 7.71053099e-14,\n       3.21644896e-16, 0.00000000e+00, 5.49978591e-13, 1.42815802e-13,\n       2.04720162e-16, 1.76792853e-13, 6.90448097e-13, 2.07676312e-13,\n       6.85503428e-16, 2.32788985e-16, 2.55004934e-16, 7.60630617e-16,\n       5.19634589e-17, 3.71299539e-13])"
     },
     "execution_count": 142,
     "metadata": {},
     "output_type": "execute_result"
    }
   ],
   "source": [
    "from capstone.portfolio_model import mean_variance_portfolio\n",
    "weight = mean_variance_portfolio(mean_returns, cov_matrix)\n",
    "weight"
   ],
   "metadata": {
    "collapsed": false,
    "ExecuteTime": {
     "end_time": "2024-11-09T08:32:07.061896Z",
     "start_time": "2024-11-09T08:32:06.953203Z"
    }
   },
   "id": "df271ed3b67f9b7",
   "execution_count": 142
  },
  {
   "cell_type": "code",
   "outputs": [],
   "source": [
    "val_cluster_1_return = val_clusters_list[1].pct_change().dropna()"
   ],
   "metadata": {
    "collapsed": false,
    "ExecuteTime": {
     "end_time": "2024-11-09T08:32:07.096288Z",
     "start_time": "2024-11-09T08:32:07.061241Z"
    }
   },
   "id": "fc91c651c9c2b508",
   "execution_count": 143
  },
  {
   "cell_type": "code",
   "outputs": [],
   "source": [
    "result = val_cluster_1_return @ weight"
   ],
   "metadata": {
    "collapsed": false,
    "ExecuteTime": {
     "end_time": "2024-11-09T08:32:07.102277Z",
     "start_time": "2024-11-09T08:32:07.096838Z"
    }
   },
   "id": "12419a514a5dab08",
   "execution_count": 144
  },
  {
   "cell_type": "code",
   "outputs": [
    {
     "data": {
      "text/plain": "Date\n2021-01-03    0.000000\n2021-01-04    0.052336\n2021-01-05    0.012433\n2021-01-06   -0.043860\n2021-01-07    0.022018\n                ...   \n2022-02-25    0.039886\n2022-02-26    0.000000\n2022-02-27    0.000000\n2022-02-28    0.063014\n2022-03-01    0.000000\nLength: 423, dtype: float64"
     },
     "execution_count": 145,
     "metadata": {},
     "output_type": "execute_result"
    }
   ],
   "source": [
    "result"
   ],
   "metadata": {
    "collapsed": false,
    "ExecuteTime": {
     "end_time": "2024-11-09T08:32:07.109897Z",
     "start_time": "2024-11-09T08:32:07.102829Z"
    }
   },
   "id": "43434ef69021c5b0",
   "execution_count": 145
  },
  {
   "cell_type": "code",
   "outputs": [],
   "source": [
    "df_profit_accumulate = (1+result).cumprod()-1"
   ],
   "metadata": {
    "collapsed": false,
    "ExecuteTime": {
     "end_time": "2024-11-09T08:32:07.115887Z",
     "start_time": "2024-11-09T08:32:07.110681Z"
    }
   },
   "id": "54f6ecd051483344",
   "execution_count": 146
  },
  {
   "cell_type": "code",
   "outputs": [
    {
     "data": {
      "text/plain": "[<matplotlib.lines.Line2D at 0x16cb048e0>]"
     },
     "execution_count": 147,
     "metadata": {},
     "output_type": "execute_result"
    },
    {
     "data": {
      "text/plain": "<Figure size 640x480 with 1 Axes>",
      "image/png": "[encoded data removed]"
     },
     "metadata": {},
     "output_type": "display_data"
    }
   ],
   "source": [
    "plt.plot(df_profit_accumulate)"
   ],
   "metadata": {
    "collapsed": false,
    "ExecuteTime": {
     "end_time": "2024-11-09T08:32:07.245539Z",
     "start_time": "2024-11-09T08:32:07.126175Z"
    }
   },
   "id": "44ad2b123323577f",
   "execution_count": 147
  },
  {
   "cell_type": "code",
   "outputs": [],
   "source": [],
   "metadata": {
    "collapsed": false,
    "ExecuteTime": {
     "end_time": "2024-11-09T08:32:07.248453Z",
     "start_time": "2024-11-09T08:32:07.244435Z"
    }
   },
   "id": "50974393eef2bcef",
   "execution_count": 147
  }
 ],
 "metadata": {
  "kernelspec": {
   "name": "backtesting",
   "language": "python",
   "display_name": "backtesting"
  },
  "language_info": {
   "codemirror_mode": {
    "name": "ipython",
    "version": 2
   },
   "file_extension": ".py",
   "mimetype": "text/x-python",
   "name": "python",
   "nbconvert_exporter": "python",
   "pygments_lexer": "ipython2",
   "version": "2.7.6"
  }
 },
 "nbformat": 4,
 "nbformat_minor": 5
}
