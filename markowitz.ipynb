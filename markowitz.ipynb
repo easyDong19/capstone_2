{
 "cells": [
  {
   "cell_type": "code",
   "execution_count": 19,
   "id": "initial_id",
   "metadata": {
    "collapsed": true,
    "ExecuteTime": {
     "end_time": "2024-11-09T08:26:39.026991Z",
     "start_time": "2024-11-09T08:26:39.017340Z"
    }
   },
   "outputs": [],
   "source": [
    "from capstone.portfolio_model import mean_variance_portfolio\n",
    "from capstone.util import load_dataset\n",
    "import pandas as pd"
   ]
  },
  {
   "cell_type": "code",
   "outputs": [],
   "source": [
    "pickle_path = './pickle'\n",
    "kospi_pickle_path = pickle_path + '/kospi_data.pickle'"
   ],
   "metadata": {
    "collapsed": false,
    "ExecuteTime": {
     "end_time": "2024-11-09T08:26:39.069539Z",
     "start_time": "2024-11-09T08:26:39.033185Z"
    }
   },
   "id": "f59631a86d492329",
   "execution_count": 20
  },
  {
   "cell_type": "code",
   "outputs": [],
   "source": [
    "interest_rate_increase_path = pickle_path + '/interest_rate_increase.pickle'\n",
    "yield_curve_inversion_path = pickle_path + '/yield_curve_inversion.pickle'"
   ],
   "metadata": {
    "collapsed": false,
    "ExecuteTime": {
     "end_time": "2024-11-09T08:26:39.086989Z",
     "start_time": "2024-11-09T08:26:39.073888Z"
    }
   },
   "id": "5c539b60feab6960",
   "execution_count": 21
  },
  {
   "cell_type": "code",
   "outputs": [],
   "source": [
    "df_interest = pd.read_pickle(interest_rate_increase_path)"
   ],
   "metadata": {
    "collapsed": false,
    "ExecuteTime": {
     "end_time": "2024-11-09T08:26:39.089670Z",
     "start_time": "2024-11-09T08:26:39.078343Z"
    }
   },
   "id": "f3a836e73b3903c0",
   "execution_count": 22
  },
  {
   "cell_type": "code",
   "outputs": [],
   "source": [
    "df_interest_dropna = df_interest.dropna(axis=1)"
   ],
   "metadata": {
    "collapsed": false,
    "ExecuteTime": {
     "end_time": "2024-11-09T08:26:39.187016Z",
     "start_time": "2024-11-09T08:26:39.091088Z"
    }
   },
   "id": "11ad30265f86a0cd",
   "execution_count": 23
  },
  {
   "cell_type": "code",
   "outputs": [
    {
     "name": "stderr",
     "output_type": "stream",
     "text": [
      "/var/folders/ws/lngrb3y14bx9ckr9196sk6qm0000gn/T/ipykernel_65992/374649962.py:1: FutureWarning: Downcasting object dtype arrays on .fillna, .ffill, .bfill is deprecated and will change in a future version. Call result.infer_objects(copy=False) instead. To opt-in to the future behavior, set `pd.set_option('future.no_silent_downcasting', True)`\n",
      "  df_interest_dropna_return = df_interest_dropna.pct_change().dropna()\n"
     ]
    }
   ],
   "source": [
    "df_interest_dropna_return = df_interest_dropna.pct_change().dropna()"
   ],
   "metadata": {
    "collapsed": false,
    "ExecuteTime": {
     "end_time": "2024-11-09T08:26:39.190928Z",
     "start_time": "2024-11-09T08:26:39.106140Z"
    }
   },
   "id": "d19b7b1f19b7ec18",
   "execution_count": 24
  },
  {
   "cell_type": "code",
   "outputs": [
    {
     "data": {
      "text/plain": "Code         A005930   A000660   A207940   A005380   A068270   A000270  \\\nDate                                                                     \n2020-01-02 -0.010753  0.006376 -0.010392 -0.020747 -0.005528 -0.040632   \n2020-01-03  0.005435 -0.002112 -0.015169 -0.016949 -0.013888 -0.011765   \n2020-01-04  0.000000  0.000000  0.000000  0.000000  0.000000  0.000000   \n2020-01-05  0.000000  0.000000  0.000000  0.000000  0.000000  0.000000   \n2020-01-06  0.000000 -0.002116 -0.023697  0.000000 -0.025353 -0.002381   \n...              ...       ...       ...       ...       ...       ...   \n2022-02-25  0.005594  0.004082  0.011843  0.005780  0.029803  0.005450   \n2022-02-26  0.000000  0.000000  0.000000  0.000000  0.000000  0.000000   \n2022-02-27  0.000000  0.000000  0.000000  0.000000  0.000000  0.000000   \n2022-02-28  0.002782  0.004065  0.025000  0.005747  0.025723  0.000000   \n2022-03-01  0.000000  0.000000  0.000000  0.000000  0.000000  0.000000   \n\nCode         A105560   A005490   A055550   A035420  ...   A114090   A005250  \\\nDate                                                ...                       \n2020-01-02 -0.023085 -0.002114 -0.017301 -0.021448  ...  0.000000 -0.020225   \n2020-01-03  0.012889  0.004237  0.003521 -0.005479  ...  0.007712 -0.013761   \n2020-01-04  0.000000  0.000000  0.000000  0.000000  ...  0.000000  0.000000   \n2020-01-05  0.000000  0.000000  0.000000  0.000000  ...  0.000000  0.000000   \n2020-01-06 -0.011665 -0.025316 -0.015205 -0.005510  ... -0.028061 -0.018605   \n...              ...       ...       ...       ...  ...       ...       ...   \n2022-02-25 -0.034426 -0.008993 -0.021357  0.039669  ...  0.020906  0.015284   \n2022-02-26  0.000000  0.000000  0.000000  0.000000  ...  0.000000  0.000000   \n2022-02-27  0.000000  0.000000  0.000000  0.000000  ...  0.000000  0.000000   \n2022-02-28  0.013582  0.034483  0.002567  0.011129  ... -0.003413 -0.040860   \n2022-03-01  0.000000  0.000000  0.000000  0.000000  ...  0.000000  0.000000   \n\nCode         A093370   A003030   A001680   A016380   A000670   A105630  \\\nDate                                                                     \n2020-01-02 -0.004888 -0.002110 -0.012931 -0.008974  0.001550  0.002890   \n2020-01-03  0.009824 -0.003171 -0.002183 -0.003881  0.018576 -0.005764   \n2020-01-04  0.000000  0.000000  0.000000  0.000000  0.000000  0.000000   \n2020-01-05  0.000000  0.000000  0.000000  0.000000  0.000000  0.000000   \n2020-01-06 -0.029184 -0.001060 -0.032823  0.000000 -0.009119 -0.017391   \n...              ...       ...       ...       ...       ...       ...   \n2022-02-25  0.075909  0.165138 -0.015453  0.019802 -0.012121  0.004608   \n2022-02-26  0.000000  0.000000  0.000000  0.000000  0.000000  0.000000   \n2022-02-27  0.000000  0.000000  0.000000  0.000000  0.000000  0.000000   \n2022-02-28  0.026756 -0.003937 -0.002242  0.014563  0.006135  0.038991   \n2022-03-01  0.000000  0.000000  0.000000  0.000000  0.000000  0.000000   \n\nCode         A178920   A008730  \nDate                            \n2020-01-02 -0.005714  0.003571  \n2020-01-03  0.011494  0.021352  \n2020-01-04  0.000000  0.000000  \n2020-01-05  0.000000  0.000000  \n2020-01-06 -0.034091 -0.017422  \n...              ...       ...  \n2022-02-25  0.029940 -0.022727  \n2022-02-26  0.000000  0.000000  \n2022-02-27  0.000000  0.000000  \n2022-02-28  0.008140  0.010571  \n2022-03-01  0.000000  0.000000  \n\n[790 rows x 182 columns]",
      "text/html": "<div>\n<style scoped>\n    .dataframe tbody tr th:only-of-type {\n        vertical-align: middle;\n    }\n\n    .dataframe tbody tr th {\n        vertical-align: top;\n    }\n\n    .dataframe thead th {\n        text-align: right;\n    }\n</style>\n<table border=\"1\" class=\"dataframe\">\n  <thead>\n    <tr style=\"text-align: right;\">\n      <th>Code</th>\n      <th>A005930</th>\n      <th>A000660</th>\n      <th>A207940</th>\n      <th>A005380</th>\n      <th>A068270</th>\n      <th>A000270</th>\n      <th>A105560</th>\n      <th>A005490</th>\n      <th>A055550</th>\n      <th>A035420</th>\n      <th>...</th>\n      <th>A114090</th>\n      <th>A005250</th>\n      <th>A093370</th>\n      <th>A003030</th>\n      <th>A001680</th>\n      <th>A016380</th>\n      <th>A000670</th>\n      <th>A105630</th>\n      <th>A178920</th>\n      <th>A008730</th>\n    </tr>\n    <tr>\n      <th>Date</th>\n      <th></th>\n      <th></th>\n      <th></th>\n      <th></th>\n      <th></th>\n      <th></th>\n      <th></th>\n      <th></th>\n      <th></th>\n      <th></th>\n      <th></th>\n      <th></th>\n      <th></th>\n      <th></th>\n      <th></th>\n      <th></th>\n      <th></th>\n      <th></th>\n      <th></th>\n      <th></th>\n      <th></th>\n    </tr>\n  </thead>\n  <tbody>\n    <tr>\n      <th>2020-01-02</th>\n      <td>-0.010753</td>\n      <td>0.006376</td>\n      <td>-0.010392</td>\n      <td>-0.020747</td>\n      <td>-0.005528</td>\n      <td>-0.040632</td>\n      <td>-0.023085</td>\n      <td>-0.002114</td>\n      <td>-0.017301</td>\n      <td>-0.021448</td>\n      <td>...</td>\n      <td>0.000000</td>\n      <td>-0.020225</td>\n      <td>-0.004888</td>\n      <td>-0.002110</td>\n      <td>-0.012931</td>\n      <td>-0.008974</td>\n      <td>0.001550</td>\n      <td>0.002890</td>\n      <td>-0.005714</td>\n      <td>0.003571</td>\n    </tr>\n    <tr>\n      <th>2020-01-03</th>\n      <td>0.005435</td>\n      <td>-0.002112</td>\n      <td>-0.015169</td>\n      <td>-0.016949</td>\n      <td>-0.013888</td>\n      <td>-0.011765</td>\n      <td>0.012889</td>\n      <td>0.004237</td>\n      <td>0.003521</td>\n      <td>-0.005479</td>\n      <td>...</td>\n      <td>0.007712</td>\n      <td>-0.013761</td>\n      <td>0.009824</td>\n      <td>-0.003171</td>\n      <td>-0.002183</td>\n      <td>-0.003881</td>\n      <td>0.018576</td>\n      <td>-0.005764</td>\n      <td>0.011494</td>\n      <td>0.021352</td>\n    </tr>\n    <tr>\n      <th>2020-01-04</th>\n      <td>0.000000</td>\n      <td>0.000000</td>\n      <td>0.000000</td>\n      <td>0.000000</td>\n      <td>0.000000</td>\n      <td>0.000000</td>\n      <td>0.000000</td>\n      <td>0.000000</td>\n      <td>0.000000</td>\n      <td>0.000000</td>\n      <td>...</td>\n      <td>0.000000</td>\n      <td>0.000000</td>\n      <td>0.000000</td>\n      <td>0.000000</td>\n      <td>0.000000</td>\n      <td>0.000000</td>\n      <td>0.000000</td>\n      <td>0.000000</td>\n      <td>0.000000</td>\n      <td>0.000000</td>\n    </tr>\n    <tr>\n      <th>2020-01-05</th>\n      <td>0.000000</td>\n      <td>0.000000</td>\n      <td>0.000000</td>\n      <td>0.000000</td>\n      <td>0.000000</td>\n      <td>0.000000</td>\n      <td>0.000000</td>\n      <td>0.000000</td>\n      <td>0.000000</td>\n      <td>0.000000</td>\n      <td>...</td>\n      <td>0.000000</td>\n      <td>0.000000</td>\n      <td>0.000000</td>\n      <td>0.000000</td>\n      <td>0.000000</td>\n      <td>0.000000</td>\n      <td>0.000000</td>\n      <td>0.000000</td>\n      <td>0.000000</td>\n      <td>0.000000</td>\n    </tr>\n    <tr>\n      <th>2020-01-06</th>\n      <td>0.000000</td>\n      <td>-0.002116</td>\n      <td>-0.023697</td>\n      <td>0.000000</td>\n      <td>-0.025353</td>\n      <td>-0.002381</td>\n      <td>-0.011665</td>\n      <td>-0.025316</td>\n      <td>-0.015205</td>\n      <td>-0.005510</td>\n      <td>...</td>\n      <td>-0.028061</td>\n      <td>-0.018605</td>\n      <td>-0.029184</td>\n      <td>-0.001060</td>\n      <td>-0.032823</td>\n      <td>0.000000</td>\n      <td>-0.009119</td>\n      <td>-0.017391</td>\n      <td>-0.034091</td>\n      <td>-0.017422</td>\n    </tr>\n    <tr>\n      <th>...</th>\n      <td>...</td>\n      <td>...</td>\n      <td>...</td>\n      <td>...</td>\n      <td>...</td>\n      <td>...</td>\n      <td>...</td>\n      <td>...</td>\n      <td>...</td>\n      <td>...</td>\n      <td>...</td>\n      <td>...</td>\n      <td>...</td>\n      <td>...</td>\n      <td>...</td>\n      <td>...</td>\n      <td>...</td>\n      <td>...</td>\n      <td>...</td>\n      <td>...</td>\n      <td>...</td>\n    </tr>\n    <tr>\n      <th>2022-02-25</th>\n      <td>0.005594</td>\n      <td>0.004082</td>\n      <td>0.011843</td>\n      <td>0.005780</td>\n      <td>0.029803</td>\n      <td>0.005450</td>\n      <td>-0.034426</td>\n      <td>-0.008993</td>\n      <td>-0.021357</td>\n      <td>0.039669</td>\n      <td>...</td>\n      <td>0.020906</td>\n      <td>0.015284</td>\n      <td>0.075909</td>\n      <td>0.165138</td>\n      <td>-0.015453</td>\n      <td>0.019802</td>\n      <td>-0.012121</td>\n      <td>0.004608</td>\n      <td>0.029940</td>\n      <td>-0.022727</td>\n    </tr>\n    <tr>\n      <th>2022-02-26</th>\n      <td>0.000000</td>\n      <td>0.000000</td>\n      <td>0.000000</td>\n      <td>0.000000</td>\n      <td>0.000000</td>\n      <td>0.000000</td>\n      <td>0.000000</td>\n      <td>0.000000</td>\n      <td>0.000000</td>\n      <td>0.000000</td>\n      <td>...</td>\n      <td>0.000000</td>\n      <td>0.000000</td>\n      <td>0.000000</td>\n      <td>0.000000</td>\n      <td>0.000000</td>\n      <td>0.000000</td>\n      <td>0.000000</td>\n      <td>0.000000</td>\n      <td>0.000000</td>\n      <td>0.000000</td>\n    </tr>\n    <tr>\n      <th>2022-02-27</th>\n      <td>0.000000</td>\n      <td>0.000000</td>\n      <td>0.000000</td>\n      <td>0.000000</td>\n      <td>0.000000</td>\n      <td>0.000000</td>\n      <td>0.000000</td>\n      <td>0.000000</td>\n      <td>0.000000</td>\n      <td>0.000000</td>\n      <td>...</td>\n      <td>0.000000</td>\n      <td>0.000000</td>\n      <td>0.000000</td>\n      <td>0.000000</td>\n      <td>0.000000</td>\n      <td>0.000000</td>\n      <td>0.000000</td>\n      <td>0.000000</td>\n      <td>0.000000</td>\n      <td>0.000000</td>\n    </tr>\n    <tr>\n      <th>2022-02-28</th>\n      <td>0.002782</td>\n      <td>0.004065</td>\n      <td>0.025000</td>\n      <td>0.005747</td>\n      <td>0.025723</td>\n      <td>0.000000</td>\n      <td>0.013582</td>\n      <td>0.034483</td>\n      <td>0.002567</td>\n      <td>0.011129</td>\n      <td>...</td>\n      <td>-0.003413</td>\n      <td>-0.040860</td>\n      <td>0.026756</td>\n      <td>-0.003937</td>\n      <td>-0.002242</td>\n      <td>0.014563</td>\n      <td>0.006135</td>\n      <td>0.038991</td>\n      <td>0.008140</td>\n      <td>0.010571</td>\n    </tr>\n    <tr>\n      <th>2022-03-01</th>\n      <td>0.000000</td>\n      <td>0.000000</td>\n      <td>0.000000</td>\n      <td>0.000000</td>\n      <td>0.000000</td>\n      <td>0.000000</td>\n      <td>0.000000</td>\n      <td>0.000000</td>\n      <td>0.000000</td>\n      <td>0.000000</td>\n      <td>...</td>\n      <td>0.000000</td>\n      <td>0.000000</td>\n      <td>0.000000</td>\n      <td>0.000000</td>\n      <td>0.000000</td>\n      <td>0.000000</td>\n      <td>0.000000</td>\n      <td>0.000000</td>\n      <td>0.000000</td>\n      <td>0.000000</td>\n    </tr>\n  </tbody>\n</table>\n<p>790 rows × 182 columns</p>\n</div>"
     },
     "execution_count": 25,
     "metadata": {},
     "output_type": "execute_result"
    }
   ],
   "source": [
    "df_interest_dropna_return"
   ],
   "metadata": {
    "collapsed": false,
    "ExecuteTime": {
     "end_time": "2024-11-09T08:26:39.204956Z",
     "start_time": "2024-11-09T08:26:39.187028Z"
    }
   },
   "id": "3d50c6637fd01e03",
   "execution_count": 25
  },
  {
   "cell_type": "code",
   "outputs": [],
   "source": [
    "test_df = df_interest_dropna_return[:'2021-01-01']\n",
    "validation_df = df_interest_dropna_return['2021-01-02':]"
   ],
   "metadata": {
    "collapsed": false,
    "ExecuteTime": {
     "end_time": "2024-11-09T08:26:39.223497Z",
     "start_time": "2024-11-09T08:26:39.209651Z"
    }
   },
   "id": "3e8b9f7086ae867",
   "execution_count": 26
  },
  {
   "cell_type": "code",
   "outputs": [],
   "source": [
    "mean_returns = test_df.mean()\n",
    "cov_matrix = test_df.cov()"
   ],
   "metadata": {
    "collapsed": false,
    "ExecuteTime": {
     "end_time": "2024-11-09T08:26:39.234588Z",
     "start_time": "2024-11-09T08:26:39.221289Z"
    }
   },
   "id": "2c263be4c5f0e6fd",
   "execution_count": 27
  },
  {
   "cell_type": "code",
   "outputs": [
    {
     "data": {
      "text/plain": "Code\nA005930    0.001167\nA000660    0.000856\nA207940    0.002059\nA005380    0.001592\nA068270    0.002330\n             ...   \nA016380    0.001969\nA000670   -0.000315\nA105630    0.000575\nA178920    0.000546\nA008730    0.001302\nLength: 182, dtype: float64"
     },
     "execution_count": 28,
     "metadata": {},
     "output_type": "execute_result"
    }
   ],
   "source": [
    "mean_returns"
   ],
   "metadata": {
    "collapsed": false,
    "ExecuteTime": {
     "end_time": "2024-11-09T08:26:39.303893Z",
     "start_time": "2024-11-09T08:26:39.226575Z"
    }
   },
   "id": "e4ef1a22d284cf3",
   "execution_count": 28
  },
  {
   "cell_type": "code",
   "outputs": [],
   "source": [
    "weight = mean_variance_portfolio(mean_returns, cov_matrix)"
   ],
   "metadata": {
    "collapsed": false,
    "ExecuteTime": {
     "end_time": "2024-11-09T08:26:39.573930Z",
     "start_time": "2024-11-09T08:26:39.234779Z"
    }
   },
   "id": "c29d7ec3da24fbf",
   "execution_count": 29
  },
  {
   "cell_type": "code",
   "outputs": [
    {
     "data": {
      "text/plain": "array([2.80816169e-13, 0.00000000e+00, 4.22084243e-14, 4.43204501e-14,\n       1.81055691e-13, 7.45055059e-14, 0.00000000e+00, 0.00000000e+00,\n       0.00000000e+00, 2.93298372e-14, 6.48968726e-14, 9.86433157e-14,\n       0.00000000e+00, 2.68040798e-14, 0.00000000e+00, 0.00000000e+00,\n       2.67671302e-13, 0.00000000e+00, 7.04341099e-14, 3.71378275e-14,\n       7.50762300e-14, 0.00000000e+00, 0.00000000e+00, 4.40012610e-15,\n       2.17575090e-13, 0.00000000e+00, 0.00000000e+00, 0.00000000e+00,\n       1.30147629e-13, 0.00000000e+00, 1.07743675e-14, 0.00000000e+00,\n       0.00000000e+00, 3.76151367e-13, 1.21140077e-13, 0.00000000e+00,\n       0.00000000e+00, 6.41587478e-14, 0.00000000e+00, 0.00000000e+00,\n       0.00000000e+00, 0.00000000e+00, 5.55822749e-14, 1.84375085e-14,\n       1.11148937e-13, 0.00000000e+00, 1.64231476e-13, 1.31466019e-13,\n       7.36320727e-14, 0.00000000e+00, 0.00000000e+00, 1.15567278e-14,\n       2.79064966e-14, 1.70609187e-13, 1.53639254e-13, 0.00000000e+00,\n       7.70529474e-14, 0.00000000e+00, 0.00000000e+00, 0.00000000e+00,\n       0.00000000e+00, 0.00000000e+00, 0.00000000e+00, 0.00000000e+00,\n       1.62402210e-13, 1.94683679e-13, 7.29537958e-14, 0.00000000e+00,\n       9.98706326e-14, 0.00000000e+00, 8.56814619e-14, 0.00000000e+00,\n       0.00000000e+00, 0.00000000e+00, 2.48883379e-13, 4.75869344e-14,\n       0.00000000e+00, 0.00000000e+00, 0.00000000e+00, 1.93048702e-14,\n       4.03670153e-14, 4.52346494e-14, 0.00000000e+00, 1.31778269e-14,\n       2.11677030e-13, 2.34974366e-13, 1.84053293e-13, 2.95284630e-14,\n       6.84764745e-14, 2.33023670e-13, 0.00000000e+00, 2.44684481e-13,\n       1.20760173e-13, 0.00000000e+00, 0.00000000e+00, 0.00000000e+00,\n       0.00000000e+00, 0.00000000e+00, 0.00000000e+00, 2.29671317e-13,\n       0.00000000e+00, 0.00000000e+00, 0.00000000e+00, 4.69763117e-15,\n       0.00000000e+00, 2.27882817e-13, 0.00000000e+00, 3.32089391e-13,\n       0.00000000e+00, 0.00000000e+00, 8.35234659e-14, 0.00000000e+00,\n       4.69936590e-14, 1.25982558e-13, 0.00000000e+00, 2.42307042e-13,\n       1.13915821e-13, 0.00000000e+00, 1.26797010e-13, 1.16048664e-13,\n       0.00000000e+00, 9.76363088e-14, 0.00000000e+00, 0.00000000e+00,\n       4.56709323e-14, 5.07814277e-14, 0.00000000e+00, 0.00000000e+00,\n       0.00000000e+00, 0.00000000e+00, 9.00494956e-15, 1.35753388e-13,\n       0.00000000e+00, 0.00000000e+00, 8.74890438e-14, 8.09101050e-14,\n       2.25435989e-14, 1.47195624e-13, 0.00000000e+00, 0.00000000e+00,\n       0.00000000e+00, 1.18675035e-13, 0.00000000e+00, 2.29243707e-15,\n       3.20845780e-14, 0.00000000e+00, 4.22491903e-15, 0.00000000e+00,\n       0.00000000e+00, 1.00000000e+00, 0.00000000e+00, 3.03576608e-14,\n       6.67287406e-14, 0.00000000e+00, 0.00000000e+00, 1.02175213e-14,\n       0.00000000e+00, 2.18484085e-13, 2.57779909e-15, 0.00000000e+00,\n       2.34866813e-13, 0.00000000e+00, 6.51154478e-14, 1.41569916e-13,\n       9.77117692e-14, 0.00000000e+00, 0.00000000e+00, 0.00000000e+00,\n       0.00000000e+00, 9.12377812e-15, 3.45721715e-14, 0.00000000e+00,\n       0.00000000e+00, 0.00000000e+00, 0.00000000e+00, 0.00000000e+00,\n       0.00000000e+00, 1.49926946e-13, 0.00000000e+00, 0.00000000e+00,\n       0.00000000e+00, 2.49687424e-14])"
     },
     "execution_count": 30,
     "metadata": {},
     "output_type": "execute_result"
    }
   ],
   "source": [
    "weight"
   ],
   "metadata": {
    "collapsed": false,
    "ExecuteTime": {
     "end_time": "2024-11-09T08:26:39.580567Z",
     "start_time": "2024-11-09T08:26:39.576965Z"
    }
   },
   "id": "9f56ed9f6ccc81ef",
   "execution_count": 30
  },
  {
   "cell_type": "code",
   "outputs": [],
   "source": [
    "result = validation_df @ weight"
   ],
   "metadata": {
    "collapsed": false,
    "ExecuteTime": {
     "end_time": "2024-11-09T08:26:39.587222Z",
     "start_time": "2024-11-09T08:26:39.582513Z"
    }
   },
   "id": "2483731962290605",
   "execution_count": 31
  },
  {
   "cell_type": "code",
   "outputs": [
    {
     "data": {
      "text/plain": "Date\n2021-01-02    0.000000\n2021-01-03    0.000000\n2021-01-04    0.052336\n2021-01-05    0.012433\n2021-01-06   -0.043860\n                ...   \n2022-02-25    0.039886\n2022-02-26    0.000000\n2022-02-27    0.000000\n2022-02-28    0.063014\n2022-03-01    0.000000\nLength: 424, dtype: float64"
     },
     "execution_count": 32,
     "metadata": {},
     "output_type": "execute_result"
    }
   ],
   "source": [
    "result"
   ],
   "metadata": {
    "collapsed": false,
    "ExecuteTime": {
     "end_time": "2024-11-09T08:26:39.593275Z",
     "start_time": "2024-11-09T08:26:39.590546Z"
    }
   },
   "id": "95cb582d7d7ae54a",
   "execution_count": 32
  },
  {
   "cell_type": "code",
   "outputs": [
    {
     "data": {
      "text/plain": "Date\n2021-01-02    0.000000\n2021-01-03    0.000000\n2021-01-04    0.052336\n2021-01-05    0.065421\n2021-01-06    0.018692\n                ...   \n2022-02-25   -0.317757\n2022-02-26   -0.317757\n2022-02-27   -0.317757\n2022-02-28   -0.274766\n2022-03-01   -0.274766\nLength: 424, dtype: float64"
     },
     "execution_count": 33,
     "metadata": {},
     "output_type": "execute_result"
    }
   ],
   "source": [
    "df_profit_accumulate = (1+result).cumprod() - 1\n",
    "df_profit_accumulate"
   ],
   "metadata": {
    "collapsed": false,
    "ExecuteTime": {
     "end_time": "2024-11-09T08:26:39.607111Z",
     "start_time": "2024-11-09T08:26:39.593890Z"
    }
   },
   "id": "7d8cb99d8fe91720",
   "execution_count": 33
  },
  {
   "cell_type": "code",
   "outputs": [
    {
     "data": {
      "text/plain": "[<matplotlib.lines.Line2D at 0x173721120>]"
     },
     "execution_count": 34,
     "metadata": {},
     "output_type": "execute_result"
    },
    {
     "data": {
      "text/plain": "<Figure size 640x480 with 1 Axes>",
      "image/png": "[encoded data removed]"
     },
     "metadata": {},
     "output_type": "display_data"
    }
   ],
   "source": [
    "import matplotlib.pyplot as plt\n",
    "plt.plot(df_profit_accumulate)"
   ],
   "metadata": {
    "collapsed": false,
    "ExecuteTime": {
     "end_time": "2024-11-09T08:26:39.730272Z",
     "start_time": "2024-11-09T08:26:39.614828Z"
    }
   },
   "id": "5fd14732e888520b",
   "execution_count": 34
  },
  {
   "cell_type": "code",
   "outputs": [
    {
     "data": {
      "text/plain": "Date\n2021-01-02    0.000000\n2021-01-03    0.000000\n2021-01-04    0.052336\n2021-01-05    0.065421\n2021-01-06    0.018692\n                ...   \n2022-02-25   -0.317757\n2022-02-26   -0.317757\n2022-02-27   -0.317757\n2022-02-28   -0.274766\n2022-03-01   -0.274766\nLength: 424, dtype: float64"
     },
     "execution_count": 35,
     "metadata": {},
     "output_type": "execute_result"
    }
   ],
   "source": [
    "df_profit_accumulate"
   ],
   "metadata": {
    "collapsed": false,
    "ExecuteTime": {
     "end_time": "2024-11-09T08:26:39.739216Z",
     "start_time": "2024-11-09T08:26:39.735383Z"
    }
   },
   "id": "717f45513c5b8bfc",
   "execution_count": 35
  },
  {
   "cell_type": "code",
   "outputs": [],
   "source": [],
   "metadata": {
    "collapsed": false,
    "ExecuteTime": {
     "end_time": "2024-11-09T08:26:39.742235Z",
     "start_time": "2024-11-09T08:26:39.739802Z"
    }
   },
   "id": "e0b6f8eea0a7c02d",
   "execution_count": 35
  }
 ],
 "metadata": {
  "kernelspec": {
   "name": "backtesting",
   "language": "python",
   "display_name": "backtesting"
  },
  "language_info": {
   "codemirror_mode": {
    "name": "ipython",
    "version": 2
   },
   "file_extension": ".py",
   "mimetype": "text/x-python",
   "name": "python",
   "nbconvert_exporter": "python",
   "pygments_lexer": "ipython2",
   "version": "2.7.6"
  }
 },
 "nbformat": 4,
 "nbformat_minor": 5
}
