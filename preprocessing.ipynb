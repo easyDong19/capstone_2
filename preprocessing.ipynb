{
 "cells": [
  {
   "cell_type": "markdown",
   "source": [
    "## 기간\n",
    "\n",
    "- 코로나 19이후 금리 및 물가 상승 기간(2020년 1월~2022년 3월, 2년 3개월\n",
    "- 장단기 금리 역전 기간(2018년 1월 ~ 2019년 12월 2년)"
   ],
   "metadata": {
    "collapsed": false
   },
   "id": "30e51655007ce6a3"
  },
  {
   "cell_type": "code",
   "outputs": [],
   "source": [
    "from IPython.core.interactiveshell import InteractiveShell\n",
    "InteractiveShell.ast_node_interactivity = \"all\"\n",
    "import numpy as np\n",
    "import pandas as pd\n",
    "from capstone.util import load_kospi_data, load_dataset"
   ],
   "metadata": {
    "collapsed": false,
    "ExecuteTime": {
     "end_time": "2024-11-05T07:34:15.900920Z",
     "start_time": "2024-11-05T07:34:15.887682Z"
    }
   },
   "id": "61cda9e4e07b7a59",
   "execution_count": 8
  },
  {
   "cell_type": "code",
   "outputs": [],
   "source": [
    "pickle_path = './pickle'\n",
    "kospi_path = './data/kospi200_stocks.xlsx'"
   ],
   "metadata": {
    "collapsed": false,
    "ExecuteTime": {
     "end_time": "2024-11-05T07:34:15.901641Z",
     "start_time": "2024-11-05T07:34:15.891106Z"
    }
   },
   "id": "a5b4d9f389d31e04",
   "execution_count": 9
  },
  {
   "cell_type": "code",
   "outputs": [],
   "source": [
    "interest_rate_increase = {\n",
    "    \"name\" : 'interest_rate_increase',\n",
    "    \"start_date\" : '2020-01-01',\n",
    "    \"end_date\": '2022-03-01'\n",
    "}\n",
    "yield_curve_inversion = {\n",
    "    \"name\" : \"yield_curve_inversion\",\n",
    "    \"start_date\" : '2018-01-01',\n",
    "    \"end_date\": '2019-12-01'\n",
    "}"
   ],
   "metadata": {
    "collapsed": false,
    "ExecuteTime": {
     "end_time": "2024-11-05T07:34:15.901944Z",
     "start_time": "2024-11-05T07:34:15.895121Z"
    }
   },
   "id": "f078107471e270cf",
   "execution_count": 10
  },
  {
   "cell_type": "code",
   "outputs": [],
   "source": [
    "kospi_pickle_path = pickle_path + '/kospi_data.pickle'\n",
    "kospi_data = load_kospi_data(kospi_pickle_path,kospi_path)"
   ],
   "metadata": {
    "collapsed": false,
    "ExecuteTime": {
     "end_time": "2024-11-05T07:34:16.065503Z",
     "start_time": "2024-11-05T07:34:15.901606Z"
    }
   },
   "id": "e24698da535fd643",
   "execution_count": 11
  },
  {
   "cell_type": "code",
   "outputs": [],
   "source": [
    "interest_rate_pickle_path = pickle_path + f'/{interest_rate_increase[\"name\"]}.pickle'\n",
    "yield_curve_pickle_path = pickle_path + f'/{yield_curve_inversion[\"name\"]}.pickle'"
   ],
   "metadata": {
    "collapsed": false,
    "ExecuteTime": {
     "end_time": "2024-11-05T07:34:16.074097Z",
     "start_time": "2024-11-05T07:34:16.067263Z"
    }
   },
   "id": "747bc0680d82bef8",
   "execution_count": 12
  },
  {
   "cell_type": "code",
   "outputs": [],
   "source": [
    "df_interest_rate = load_dataset(kospi_data,interest_rate_pickle_path,interest_rate_increase['start_date'],interest_rate_increase['end_date'])"
   ],
   "metadata": {
    "collapsed": false,
    "ExecuteTime": {
     "end_time": "2024-11-05T07:34:16.100058Z",
     "start_time": "2024-11-05T07:34:16.070678Z"
    }
   },
   "id": "cfcf3f7b35ad1fc2",
   "execution_count": 13
  },
  {
   "cell_type": "code",
   "outputs": [],
   "source": [
    "df_yield_curve = load_dataset(kospi_data,yield_curve_pickle_path,yield_curve_inversion['start_date'],yield_curve_inversion['end_date'])"
   ],
   "metadata": {
    "collapsed": false,
    "ExecuteTime": {
     "end_time": "2024-11-05T07:34:16.112360Z",
     "start_time": "2024-11-05T07:34:16.099042Z"
    }
   },
   "id": "c0626ff4ac7f6366",
   "execution_count": 14
  },
  {
   "cell_type": "code",
   "outputs": [],
   "source": [],
   "metadata": {
    "collapsed": false,
    "ExecuteTime": {
     "end_time": "2024-11-05T07:34:16.122707Z",
     "start_time": "2024-11-05T07:34:16.113579Z"
    }
   },
   "id": "839e05430be87823",
   "execution_count": 14
  }
 ],
 "metadata": {
  "kernelspec": {
   "name": "backtesting",
   "language": "python",
   "display_name": "backtesting"
  },
  "language_info": {
   "codemirror_mode": {
    "name": "ipython",
    "version": 2
   },
   "file_extension": ".py",
   "mimetype": "text/x-python",
   "name": "python",
   "nbconvert_exporter": "python",
   "pygments_lexer": "ipython2",
   "version": "2.7.6"
  }
 },
 "nbformat": 4,
 "nbformat_minor": 5
}
