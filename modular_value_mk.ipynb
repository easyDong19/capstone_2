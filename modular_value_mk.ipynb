{
 "cells": [
  {
   "cell_type": "code",
   "execution_count": 1,
   "id": "initial_id",
   "metadata": {
    "collapsed": true,
    "ExecuteTime": {
     "end_time": "2024-11-11T10:23:03.726346Z",
     "start_time": "2024-11-11T10:23:02.646561Z"
    }
   },
   "outputs": [],
   "source": [
    "import numpy as np\n",
    "import pandas as pd\n",
    "import matplotlib.pyplot as plt\n",
    "from capstone.util import load_kospi_data, load_dataset\n",
    "import os\n",
    "import warnings\n",
    "\n",
    "from matplotlib import ticker\n",
    "warnings.filterwarnings(action='ignore')\n",
    "import networkx as nx\n",
    "import community as community_louvain"
   ]
  },
  {
   "cell_type": "markdown",
   "source": [
    "### 모듈러티 network"
   ],
   "metadata": {
    "collapsed": false
   },
   "id": "13a116a204a990f1"
  },
  {
   "cell_type": "code",
   "outputs": [],
   "source": [
    "from modularity.util import load_kospi_data, create_1st_dataset\n",
    "\n",
    "pickle_path = './pickle'\n",
    "kospi_path = './data/kospi200_stocks.xlsx'\n",
    "\n",
    "interest_rate_increase = {\n",
    "    \"name\" : 'interest_rate_increase',\n",
    "    \"start_date\" : '2020-01-01',\n",
    "    \"end_date\": '2022-03-01'\n",
    "}\n",
    "yield_curve_inversion = {\n",
    "    \"name\" : \"yield_curve_inversion\",\n",
    "    \"start_date\" : '2018-01-01',\n",
    "    \"end_date\": '2019-12-01'\n",
    "}\n",
    "\n",
    "kospi_pickle_path = pickle_path + '/kospi_data.pickle'\n",
    "kospi_data = load_kospi_data(kospi_pickle_path,kospi_path)\n",
    "interest_rate_pickle_path = pickle_path + f'/{interest_rate_increase[\"name\"]}.pickle'\n",
    "yield_curve_pickle_path = pickle_path + f'/{yield_curve_inversion[\"name\"]}.pickle'\n",
    "\n",
    "df_interest_rate = load_dataset(kospi_data,interest_rate_pickle_path,interest_rate_increase['start_date'],interest_rate_increase['end_date'])\n",
    "tmp = df_interest_rate\n",
    "\n",
    "# df_yield_curve = load_dataset(kospi_data,yield_curve_pickle_path,yield_curve_inversion['start_date'],yield_curve_inversion['end_date'])\n",
    "# tmp = df_yield_curve"
   ],
   "metadata": {
    "collapsed": false,
    "ExecuteTime": {
     "end_time": "2024-11-11T10:23:03.823777Z",
     "start_time": "2024-11-11T10:23:03.727066Z"
    }
   },
   "id": "e56b0a2b9b275346",
   "execution_count": 2
  },
  {
   "cell_type": "code",
   "outputs": [],
   "source": [
    "# interest_rate increase\n",
    "test_df = tmp[:'2021-01-01']\n",
    "validation_df = tmp['2021-01-02':]\n",
    "\n",
    "# # yield curve increase\n",
    "# test_df = tmp[:'2019-01-01']\n",
    "# validation_df = tmp['2019-01-02':]"
   ],
   "metadata": {
    "collapsed": false,
    "ExecuteTime": {
     "end_time": "2024-11-11T10:23:03.832290Z",
     "start_time": "2024-11-11T10:23:03.827611Z"
    }
   },
   "id": "33a243f56c096cf",
   "execution_count": 3
  },
  {
   "cell_type": "code",
   "outputs": [
    {
     "name": "stdout",
     "output_type": "stream",
     "text": [
      "MODULARITY : 0.16666633124056968\n"
     ]
    }
   ],
   "source": [
    "from modularity.calculate_modularity import calculate_louvain\n",
    "from community import community_louvain\n",
    "\n",
    "partition,G = calculate_louvain(test_df,threshold=0.15)\n",
    "modularity_value = community_louvain.modularity(partition,G)\n",
    "print(f\"MODULARITY : {modularity_value}\")"
   ],
   "metadata": {
    "collapsed": false,
    "ExecuteTime": {
     "end_time": "2024-11-11T10:23:04.391348Z",
     "start_time": "2024-11-11T10:23:03.831167Z"
    }
   },
   "id": "10a4d68a8cba01c6",
   "execution_count": 4
  },
  {
   "cell_type": "code",
   "outputs": [
    {
     "name": "stdout",
     "output_type": "stream",
     "text": [
      "클러스터 갯수 : 3\n"
     ]
    }
   ],
   "source": [
    "n_clusters = len(set(partition.values()))\n",
    "print(f\"클러스터 갯수 : {n_clusters}\")\n",
    "\n",
    "# 클러스터 개수만큼 딕셔너리 생성\n",
    "dict_clusters = {i : [] for i in range(n_clusters)}"
   ],
   "metadata": {
    "collapsed": false,
    "ExecuteTime": {
     "end_time": "2024-11-11T10:23:04.396055Z",
     "start_time": "2024-11-11T10:23:04.392075Z"
    }
   },
   "id": "1161f63ddab949e9",
   "execution_count": 5
  },
  {
   "cell_type": "code",
   "outputs": [],
   "source": [
    "# 클러스터 기준으로 군집 분류 \n",
    "for stock_code,cluster in partition.items():\n",
    "    dict_clusters[cluster].append(stock_code)\n",
    "\n",
    "# 각 군집별로 데이터프레임 생성\n",
    "clusters_list = []\n",
    "for cluster in dict_clusters.keys():\n",
    "    clusters_list.append(tmp[dict_clusters[cluster]])\n",
    "\n",
    "# validation 각 군집별로 데이터프레임 생성\n",
    "val_clusters_list = []\n",
    "for cluster in dict_clusters.keys():\n",
    "    val_clusters_list.append(validation_df[dict_clusters[cluster]])"
   ],
   "metadata": {
    "collapsed": false,
    "ExecuteTime": {
     "end_time": "2024-11-11T10:23:04.405056Z",
     "start_time": "2024-11-11T10:23:04.397440Z"
    }
   },
   "id": "e74d19b4f908eed",
   "execution_count": 6
  },
  {
   "cell_type": "code",
   "outputs": [],
   "source": [
    "# 엑셀 용량이 커서 미리 저장\n",
    "def make_df_value(pickle_path:str, excel_path:str):\n",
    "    if os.path.isfile(pickle_path):\n",
    "        return pd.read_pickle(pickle_path)\n",
    "\n",
    "    df = pd.read_excel(excel_path, sheet_name=0, header=None)\n",
    "    data_value = df.iloc[12:].reset_index(drop=True) # 12번째 행부터 데이터프레임의 데이터를 가져오도록 설정\n",
    "    data_value.drop(data_value.index[11], inplace=True)\n",
    "\n",
    "    data_value.columns = df.iloc[8]  # 8번째 행을 컬럼명으로 설정\n",
    "    data_value = data_value.rename(columns={data_value.columns[0]: 'date'})  # 첫 번째 컬럼 이름을 'date'로 변경\n",
    "    data_value['date'] = pd.to_datetime(data_value['date'], errors='coerce')  # 날짜 형식 변환\n",
    "    data_value = data_value.set_index(data_value.columns[0]) # 첫 번째 열을 인덱스로 설정하고 해당 열 제거\n",
    "    data_value.index = pd.to_datetime(data_value.index, errors='coerce') # 인덱스를 datetime 형식으로 변환\n",
    "    data_value.columns.name = 'Code'  # 종목 코드에 이름 설정\n",
    "    data_value.index.name = 'Date'    # 날짜 인덱스에 이름 설정\n",
    "    data_value.iloc[1, :] = np.nan\n",
    "    data_value_drop = data_value.dropna(how='all')\n",
    "\n",
    "    data_value_drop.to_pickle(pickle_path)\n",
    "\n",
    "    return data_value_drop\n"
   ],
   "metadata": {
    "collapsed": false,
    "ExecuteTime": {
     "end_time": "2024-11-11T10:23:04.423930Z",
     "start_time": "2024-11-11T10:23:04.408669Z"
    }
   },
   "id": "7bdd5062aeaf72b",
   "execution_count": 7
  },
  {
   "cell_type": "code",
   "outputs": [],
   "source": [
    "data_value = make_df_value('./pickle/data_value','./data/kospi200_stocks_valuation.xlsx')"
   ],
   "metadata": {
    "collapsed": false,
    "ExecuteTime": {
     "end_time": "2024-11-11T10:23:04.847898Z",
     "start_time": "2024-11-11T10:23:04.412197Z"
    }
   },
   "id": "d3bdf9e63f33d0bc",
   "execution_count": 8
  },
  {
   "cell_type": "code",
   "outputs": [],
   "source": [
    "# PER(배), PBR(배) ESP(원) 컬럼들만 추출 \n",
    "selected_columns = ['PER(배)', 'PBR(배)', 'EPS(원)']\n",
    "value_columns = {}\n",
    "for column in selected_columns:\n",
    "    value_columns[f'{column}'] = data_value.iloc[0] == column\n",
    "\n",
    "# 데이터 프레임 생성 \n",
    "df_value_columns = {}\n",
    "for key, value in value_columns.items():\n",
    "    df_value_columns[key] = data_value.loc[:, value]\n",
    "    df_value_columns[key].drop(df_value_columns[key].index[0], inplace=True)\n",
    "\n",
    "    # 1년치 데이터 사용 \n",
    "df_value_1st_year = {}\n",
    "start_date = '2020-01-01'\n",
    "end_date = '2021-01-01'\n",
    "for key, value in  df_value_columns.items():\n",
    "    df_value_1st_year[key] = value.loc[start_date:end_date, :]"
   ],
   "metadata": {
    "collapsed": false,
    "ExecuteTime": {
     "end_time": "2024-11-11T10:23:04.943651Z",
     "start_time": "2024-11-11T10:23:04.866243Z"
    }
   },
   "id": "f77aa31596b29535",
   "execution_count": 9
  },
  {
   "cell_type": "code",
   "outputs": [],
   "source": [
    "def filter_stocks(df_cluster,df_per,df_pbr,per_upper = 1,pbr_upper = 0):\n",
    "    # df_per, df_pbr에 해당하는 공통 종목들만 필터링\n",
    "    common_columns = df_cluster.columns.intersection(df_per.columns).intersection(df_pbr.columns)\n",
    "\n",
    "    # 조건: per < 1 and pbr < 0에 해당하는 종목 필터링\n",
    "    last_per = df_per[common_columns].iloc[-1]\n",
    "    last_pbr = df_pbr[common_columns].iloc[-1]\n",
    "    filtered_stocks = last_per[(last_per < per_upper) & (last_pbr < pbr_upper)].index.tolist()\n",
    "\n",
    "    # 해당 조건을 만족하지 않는 종목을 df_cluster에서 제거 \n",
    "    df_filtered = df_cluster.drop(columns=filtered_stocks, errors='ignore')\n",
    "    return df_filtered\n",
    "\n",
    "def rank_top_20(df_filtered_cluster, df_per, df_pbr):\n",
    "    # PER 기준으로 랭킹 매기기 (오름차순)\n",
    "    per_ranking = df_per.iloc[-1].rank(method='min').to_numpy()\n",
    "    # PBR 기준으로 랭킹 매기기 (오름차순)\n",
    "    pbr_ranking = df_pbr.iloc[-1].rank(method='min').to_numpy()\n",
    "\n",
    "    # 두 랭킹 합산\n",
    "    combined_ranking = per_ranking + pbr_ranking\n",
    "\n",
    "    # 랭킹 기준 상위 20개 추출\n",
    "    top_20_stocks = np.argsort(combined_ranking)[:20]\n",
    "    return df_filtered_cluster.columns[top_20_stocks].tolist()\n",
    "\n",
    "# PER과 PBR 값의 조건에 맞게 종목  필터링하는 함수\n",
    "def process_cluster(df_cluster, df_per, df_pbr, per_upper = 1, pbr_upper = 0):\n",
    "\n",
    "\n",
    "    # 필터링된 종목에 대해서만 PER과 PBR을 사용하여 랭킹을 계산\n",
    "    df_filtered = filter_stocks(df_cluster,df_per,df_pbr,per_upper,pbr_upper)\n",
    "    top_20 = rank_top_20(df_filtered, df_per[df_filtered.columns], df_pbr[df_filtered.columns])\n",
    "\n",
    "    return top_20"
   ],
   "metadata": {
    "collapsed": false,
    "ExecuteTime": {
     "end_time": "2024-11-11T10:23:04.952145Z",
     "start_time": "2024-11-11T10:23:04.947384Z"
    }
   },
   "id": "1d862137d880ce99",
   "execution_count": 10
  },
  {
   "cell_type": "code",
   "outputs": [],
   "source": [
    "top20_clusters = {}\n",
    "for idx, cluster in enumerate(clusters_list):\n",
    "    top20_clusters[idx] = process_cluster(cluster,df_value_1st_year['PER(배)'],df_value_1st_year['PBR(배)'])"
   ],
   "metadata": {
    "collapsed": false,
    "ExecuteTime": {
     "end_time": "2024-11-11T10:23:04.964662Z",
     "start_time": "2024-11-11T10:23:04.950610Z"
    }
   },
   "id": "33988603f9a42792",
   "execution_count": 11
  },
  {
   "cell_type": "code",
   "outputs": [],
   "source": [
    "tmp_data = top20_clusters[0]"
   ],
   "metadata": {
    "collapsed": false,
    "ExecuteTime": {
     "end_time": "2024-11-11T10:23:30.770278Z",
     "start_time": "2024-11-11T10:23:30.764415Z"
    }
   },
   "id": "4fbf7e7e2d6abd81",
   "execution_count": 14
  },
  {
   "cell_type": "code",
   "outputs": [],
   "source": [
    "df_value = tmp[tmp_data]"
   ],
   "metadata": {
    "collapsed": false,
    "ExecuteTime": {
     "end_time": "2024-11-11T10:24:44.118734Z",
     "start_time": "2024-11-11T10:24:44.099546Z"
    }
   },
   "id": "cb0b8e706268b973",
   "execution_count": 19
  },
  {
   "cell_type": "code",
   "outputs": [],
   "source": [
    "test_df = df_value[:'2021-01-01']\n",
    "validation_df = df_value['2021-01-02':]"
   ],
   "metadata": {
    "collapsed": false,
    "ExecuteTime": {
     "end_time": "2024-11-11T10:24:48.060869Z",
     "start_time": "2024-11-11T10:24:48.050167Z"
    }
   },
   "id": "51fba692b55824d9",
   "execution_count": 20
  },
  {
   "cell_type": "code",
   "outputs": [],
   "source": [
    "test_df_pct = test_df.pct_change().dropna()\n",
    "mean_returns = test_df_pct.mean()\n",
    "cov_matrix = test_df_pct.cov()"
   ],
   "metadata": {
    "collapsed": false,
    "ExecuteTime": {
     "end_time": "2024-11-11T10:24:56.637780Z",
     "start_time": "2024-11-11T10:24:56.626668Z"
    }
   },
   "id": "70c260555c8d16fa",
   "execution_count": 21
  },
  {
   "cell_type": "code",
   "outputs": [],
   "source": [
    "validation_df_pct = validation_df.pct_change().dropna()"
   ],
   "metadata": {
    "collapsed": false,
    "ExecuteTime": {
     "end_time": "2024-11-11T10:25:24.464293Z",
     "start_time": "2024-11-11T10:25:24.444444Z"
    }
   },
   "id": "e117d49c127bdc42",
   "execution_count": 22
  },
  {
   "cell_type": "code",
   "outputs": [
    {
     "data": {
      "text/plain": "array([4.22353222e-14, 1.61176716e-12, 2.66586108e-13, 3.12602334e-13,\n       2.85549010e-13, 1.98058589e-13, 1.60919307e-13, 1.00000000e+00,\n       2.31847751e-13, 3.43977540e-13, 3.46493027e-13, 2.29032082e-13,\n       1.71684022e-13, 2.82085963e-13, 1.91104790e-13, 4.30096595e-13,\n       3.70932081e-13, 3.67623226e-13, 3.52690567e-13, 3.18766558e-13])"
     },
     "execution_count": 23,
     "metadata": {},
     "output_type": "execute_result"
    }
   ],
   "source": [
    "from capstone.portfolio_model import mean_variance_portfolio\n",
    "weight = mean_variance_portfolio(mean_returns, cov_matrix)\n",
    "weight"
   ],
   "metadata": {
    "collapsed": false,
    "ExecuteTime": {
     "end_time": "2024-11-11T10:25:26.722526Z",
     "start_time": "2024-11-11T10:25:26.426038Z"
    }
   },
   "id": "b42f159deb82625a",
   "execution_count": 23
  },
  {
   "cell_type": "code",
   "outputs": [
    {
     "data": {
      "text/plain": "<Figure size 640x480 with 1 Axes>",
      "image/png": "[encoded data removed]"
     },
     "metadata": {},
     "output_type": "display_data"
    }
   ],
   "source": [
    "result = validation_df_pct @ weight\n",
    "df_profit_accumulate = (1+result).cumprod()-1\n",
    "plt.plot(df_profit_accumulate)\n",
    "plt.savefig('./fig/m_v_mk_interestRate.png', format='png', dpi=300)"
   ],
   "metadata": {
    "collapsed": false,
    "ExecuteTime": {
     "end_time": "2024-11-11T10:25:44.459707Z",
     "start_time": "2024-11-11T10:25:44.085420Z"
    }
   },
   "id": "cb20abadc435259a",
   "execution_count": 25
  },
  {
   "cell_type": "code",
   "outputs": [],
   "source": [],
   "metadata": {
    "collapsed": false
   },
   "id": "3fdfc2d76d2a3dc0"
  }
 ],
 "metadata": {
  "kernelspec": {
   "name": "backtesting",
   "language": "python",
   "display_name": "backtesting"
  },
  "language_info": {
   "codemirror_mode": {
    "name": "ipython",
    "version": 2
   },
   "file_extension": ".py",
   "mimetype": "text/x-python",
   "name": "python",
   "nbconvert_exporter": "python",
   "pygments_lexer": "ipython2",
   "version": "2.7.6"
  }
 },
 "nbformat": 4,
 "nbformat_minor": 5
}
